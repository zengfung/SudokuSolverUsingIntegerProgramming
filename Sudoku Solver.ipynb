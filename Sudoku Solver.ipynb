{
 "cells": [
  {
   "cell_type": "markdown",
   "metadata": {},
   "source": [
    "#  Notes"
   ]
  },
  {
   "cell_type": "markdown",
   "metadata": {},
   "source": [
    "1) Resources to solve binary integer programming problem in Python.\n",
    "    \n",
    "* https://towardsdatascience.com/integer-programming-in-python-1cbdfa240df2\n",
    "    \n",
    "2) Want to solve Sudoku using binary integer programming with following model\n",
    "    \n",
    "$$\\min \\sum_{i=1}^{729} x_i$$ doesn't really matter, just as formality\n",
    "        \n",
    "$$\\text{subject to } \\sum_{k = 1}^{9} x_{81 \\cdot i + 9 \\cdot j + k} = 1 \\text{for } i = 0 \\ldots 8,j = 0 \\ldots 8$$ -> each cell can only have 1 number\n",
    "        \n",
    "$$\\sum_{j = 0}^{8} x_{81 \\cdot i + 9 \\cdot j + k} = 1 \\text{for } k = 1 \\ldots 9,i = 0 \\ldots 8$$ -> each number can only appear once in a row\n",
    "        \n",
    "$$\\sum_{i = 0}^{8} x_{81 \\cdot i + 9 \\cdot j + k} = 1 \\text{for } j = 0 \\ldots 8,k = 1 \\ldots 9$$ -> each number can only appear once in a column\n",
    "        \n",
    "$$\\sum_{i \\in I_m, j \\in J_n} x_{81 \\cdot i + 9 \\cdot j + k} = 1 \\text{for } I_m = \\{3m+1,3m+2,3m+3\\}, J_n = \\{3n+1,3n+2,3n+3\\}, m = 0 \\ldots 2, n = 0 \\ldots 2, k = 1 \\ldots 9 $$ -> each number can only appear once in a 3 x 3 box\n",
    "\n",
    "$$x_{81 \\cdot i + 9 \\cdot j + k} = 1 \\text{for } cell_{(i,j)} = k $$\n"
   ]
  },
  {
   "cell_type": "markdown",
   "metadata": {},
   "source": [
    "The next thing to do is to represent it in matrix form, from a 3D matrix with entries $m_{i,j,k}$ to $x_{81(i-1)+9(j-1)+k}$\n",
    "\n",
    "The objective function can be written as \n",
    "\n",
    "$$\\begin{bmatrix} 1 & \\ldots & 1 \\end{bmatrix} \\begin{bmatrix} x_1 \\\\ \\vdots \\\\ x_{729} \\end{bmatrix}$$\n",
    "\n",
    "First constraint matrix can be written as an $81 \\times 729$ matrix\n",
    "\n",
    "$$\\begin{bmatrix} 1 & \\ldots & 1 & 0 & \\ldots & \\ldots & \\ldots & \\ldots & 0 \\\\\n",
    " 0 & \\ldots & 0 & 1 & \\ldots & 1 & 0 & \\ldots & 0 \\\\\n",
    " \\vdots & \\vdots & \\vdots & \\vdots & \\vdots & \\vdots & \\vdots & \\ddots & \\vdots \\\\\n",
    " 0 & \\ldots & \\ldots & \\ldots & \\ldots & 0 & 1 & \\ldots & 1\\end{bmatrix}$$"
   ]
  },
  {
   "cell_type": "markdown",
   "metadata": {},
   "source": [
    "Similarly, 2nd to 4th constraint matrices can each be written as $81 \\times 729$ matrix \n",
    "\n",
    "Overall matrix is $324 \\times 729$ matrix, plus additional rows \n"
   ]
  },
  {
   "cell_type": "markdown",
   "metadata": {},
   "source": [
    "# Algorithm\n",
    "\n",
    "1) start by inputting the sudoku problem\n",
    "\n",
    "* can be done by reading in .txt file \n",
    "\n",
    "* if no .txt file, can key in the values for it to generate .txt file\n",
    "\n",
    "2) based on .txt file, put in the \"additional rows\" of constraints, add it to the $324 \\times 729$ matrix, call this matrix `constraint`\n",
    "\n",
    "3) we also need a matrix $b$ such that $Ax=b$, hence $b$ is a vectors of 1's with the same number of rows in `constraint`\n",
    "\n",
    "4) run the ILP and obtain the solution vector $x$\n",
    "\n",
    "5) use double for loops to extract the values \n",
    "\n",
    "    for i = 0 to 8\n",
    "        for j = 0 to 8\n",
    "            new x = x[81i+9j+1 ... 81i+9j+9]\n",
    "            idx = index of x == 1\n",
    "            print (idx)\n",
    "        end\n",
    "        print newline\n",
    "    end"
   ]
  },
  {
   "cell_type": "code",
   "execution_count": null,
   "metadata": {},
   "outputs": [],
   "source": [
    "0 9 18 81 90 99 162 171 180 \n",
    "27 36 45 108 117 126 189 198 207\n",
    "54 63 72 135 144 153 216 225 234\n",
    "243 252 261 324 333 342 405 414 423"
   ]
  },
  {
   "cell_type": "markdown",
   "metadata": {},
   "source": [
    "# Making an app\n",
    "\n",
    "### Goal: To make an app that starts out with an empty sudoku grid with 9x9 cells, let user enter the puzzle, select Solve, and obtain the solution, then click Restart option to start again\n",
    "\n",
    "Resources:\n",
    "\n",
    "* http://newcoder.io/gui/part-2/\n",
    "\n",
    "* https://realpython.com/mobile-app-kivy-python/"
   ]
  },
  {
   "cell_type": "code",
   "execution_count": null,
   "metadata": {},
   "outputs": [],
   "source": []
  }
 ],
 "metadata": {
  "kernelspec": {
   "display_name": "Python 3",
   "language": "python",
   "name": "python3"
  },
  "language_info": {
   "codemirror_mode": {
    "name": "ipython",
    "version": 3
   },
   "file_extension": ".py",
   "mimetype": "text/x-python",
   "name": "python",
   "nbconvert_exporter": "python",
   "pygments_lexer": "ipython3",
   "version": "3.7.6"
  }
 },
 "nbformat": 4,
 "nbformat_minor": 4
}

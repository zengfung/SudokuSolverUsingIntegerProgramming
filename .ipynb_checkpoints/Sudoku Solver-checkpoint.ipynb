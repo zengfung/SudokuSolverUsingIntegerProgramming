{
 "cells": [
  {
   "cell_type": "markdown",
   "metadata": {},
   "source": [
    "#  Main Idea"
   ]
  },
  {
   "cell_type": "markdown",
   "metadata": {},
   "source": [
    "1) Getting input of puzzle file from user. There are two results from this input:\n",
    "\n",
    "* The file does not exist. Proceed to get user input of the file. After that output the puzzle file in a .txt file.\n",
    "\n",
    "* The file exists. This file will be used.\n",
    "\n",
    "2) Based on the input file, a integer (binary) programming problem is formed. Check ILP Formulation section for more info.\n",
    "\n",
    "3) Solve the integer programming problem.\n",
    "\n",
    "4) Based on the results, the output is printed into the console and a separate .txt file."
   ]
  },
  {
   "cell_type": "markdown",
   "metadata": {},
   "source": [
    "# Integer (Binary) Linear Programming Formulation"
   ]
  },
  {
   "cell_type": "markdown",
   "metadata": {},
   "source": [
    "Note that solving a sudoku puzzle requires us to fill in numbers into each empty cell based on the following rules:\n",
    "\n",
    "1) Each number can only appear once in each row\n",
    "\n",
    "2) Each number can only appear once in each column\n",
    "\n",
    "3) Each number can only appear once in each $3 \\times 3$ box\n",
    "\n",
    "4) In other words, each number can only appear exactly 9 times in the entire puzzle\n",
    "\n",
    "This is the most important aspect in solving the sudoku puzzle. It is based on the following key points:\n",
    "\n",
    "1) We first want to think of this as a $9 \\times 9 \\times 9$ array to represent the puzzle. Another way of thinking about this is that each cell in the $9 \\times 9$ sudoku puzzle has a vector of length 9.\n",
    "\n",
    "2) In any cell, its vector represents the value it takes. For example, if the cell in row 3 column 4 has value 8, then the vector that represents cell (3,4) has value 1 in the 8th entry and 0 for the rest of them.\n",
    "\n",
    "3) \n",
    "\n"
   ]
  },
  {
   "cell_type": "markdown",
   "metadata": {},
   "source": [
    "# Stuff written below this line requires further editing!\n",
    "\n",
    "$$\\min \\sum_{i=1}^{729} x_i$$ doesn't really matter, just as formality\n",
    "        \n",
    "$$\\text{subject to } \\sum_{k = 1}^{9} x_{81 \\cdot i + 9 \\cdot j + k} = 1 \\text{for } i = 0 \\ldots 8,j = 0 \\ldots 8$$ -> each cell can only have 1 number\n",
    "        \n",
    "$$\\sum_{j = 0}^{8} x_{81 \\cdot i + 9 \\cdot j + k} = 1 \\text{for } k = 1 \\ldots 9,i = 0 \\ldots 8$$ -> each number can only appear once in a row\n",
    "        \n",
    "$$\\sum_{i = 0}^{8} x_{81 \\cdot i + 9 \\cdot j + k} = 1 \\text{for } j = 0 \\ldots 8,k = 1 \\ldots 9$$ -> each number can only appear once in a column\n",
    "        \n",
    "$$\\sum_{i \\in I_m, j \\in J_n} x_{81 \\cdot i + 9 \\cdot j + k} = 1 \\text{for } I_m = \\{3m+1,3m+2,3m+3\\}, J_n = \\{3n+1,3n+2,3n+3\\}, m = 0 \\ldots 2, n = 0 \\ldots 2, k = 1 \\ldots 9 $$ -> each number can only appear once in a 3 x 3 box\n",
    "\n",
    "$$x_{81 \\cdot i + 9 \\cdot j + k} = 1 \\text{for } cell_{(i,j)} = k $$\n"
   ]
  },
  {
   "cell_type": "markdown",
   "metadata": {},
   "source": [
    "The next thing to do is to represent it in matrix form, from a 3D matrix with entries $m_{i,j,k}$ to $x_{81(i-1)+9(j-1)+k}$\n",
    "\n",
    "The objective function can be written as \n",
    "\n",
    "$$\\begin{bmatrix} 1 & \\ldots & 1 \\end{bmatrix} \\begin{bmatrix} x_1 \\\\ \\vdots \\\\ x_{729} \\end{bmatrix}$$\n",
    "\n",
    "First constraint matrix can be written as an $81 \\times 729$ matrix\n",
    "\n",
    "$$\\begin{bmatrix} 1 & \\ldots & 1 & 0 & \\ldots & \\ldots & \\ldots & \\ldots & 0 \\\\\n",
    " 0 & \\ldots & 0 & 1 & \\ldots & 1 & 0 & \\ldots & 0 \\\\\n",
    " \\vdots & \\vdots & \\vdots & \\vdots & \\vdots & \\vdots & \\vdots & \\ddots & \\vdots \\\\\n",
    " 0 & \\ldots & \\ldots & \\ldots & \\ldots & 0 & 1 & \\ldots & 1\\end{bmatrix}$$"
   ]
  },
  {
   "cell_type": "markdown",
   "metadata": {},
   "source": [
    "Similarly, 2nd to 4th constraint matrices can each be written as $81 \\times 729$ matrix \n",
    "\n",
    "Overall matrix is $324 \\times 729$ matrix, plus additional rows \n"
   ]
  },
  {
   "cell_type": "markdown",
   "metadata": {},
   "source": [
    "# Algorithm\n",
    "\n",
    "1) start by inputting the sudoku problem\n",
    "\n",
    "* can be done by reading in .txt file \n",
    "\n",
    "* if no .txt file, can key in the values for it to generate .txt file\n",
    "\n",
    "2) based on .txt file, put in the \"additional rows\" of constraints, add it to the $324 \\times 729$ matrix, call this matrix `constraint`\n",
    "\n",
    "3) we also need a matrix $b$ such that $Ax=b$, hence $b$ is a vectors of 1's with the same number of rows in `constraint`\n",
    "\n",
    "4) run the ILP and obtain the solution vector $x$\n",
    "\n",
    "5) use double for loops to extract the values \n",
    "\n",
    "    for i = 0 to 8\n",
    "        for j = 0 to 8\n",
    "            new x = x[81i+9j+1 ... 81i+9j+9]\n",
    "            idx = index of x == 1\n",
    "            print (idx)\n",
    "        end\n",
    "        print newline\n",
    "    end"
   ]
  },
  {
   "cell_type": "code",
   "execution_count": 2,
   "metadata": {},
   "outputs": [
    {
     "ename": "SyntaxError",
     "evalue": "invalid syntax (<ipython-input-2-a7c0e690acba>, line 1)",
     "output_type": "error",
     "traceback": [
      "\u001b[1;36m  File \u001b[1;32m\"<ipython-input-2-a7c0e690acba>\"\u001b[1;36m, line \u001b[1;32m1\u001b[0m\n\u001b[1;33m    0 9 18 81 90 99 162 171 180\u001b[0m\n\u001b[1;37m      ^\u001b[0m\n\u001b[1;31mSyntaxError\u001b[0m\u001b[1;31m:\u001b[0m invalid syntax\n"
     ]
    }
   ],
   "source": [
    "0 9 18 81 90 99 162 171 180 \n",
    "27 36 45 108 117 126 189 198 207\n",
    "54 63 72 135 144 153 216 225 234\n",
    "243 252 261 324 333 342 405 414 423"
   ]
  },
  {
   "cell_type": "markdown",
   "metadata": {},
   "source": [
    "# Making an app\n",
    "\n",
    "### Goal: To make an app that starts out with an empty sudoku grid with 9x9 cells, let user enter the puzzle, select Solve, and obtain the solution, then click Restart option to start again\n",
    "\n",
    "Resources:\n",
    "\n",
    "* http://newcoder.io/gui/part-2/\n",
    "\n",
    "* https://realpython.com/mobile-app-kivy-python/"
   ]
  },
  {
   "cell_type": "code",
   "execution_count": null,
   "metadata": {},
   "outputs": [],
   "source": []
  }
 ],
 "metadata": {
  "kernelspec": {
   "display_name": "Python 3",
   "language": "python",
   "name": "python3"
  },
  "language_info": {
   "codemirror_mode": {
    "name": "ipython",
    "version": 3
   },
   "file_extension": ".py",
   "mimetype": "text/x-python",
   "name": "python",
   "nbconvert_exporter": "python",
   "pygments_lexer": "ipython3",
   "version": "3.7.6"
  }
 },
 "nbformat": 4,
 "nbformat_minor": 4
}
